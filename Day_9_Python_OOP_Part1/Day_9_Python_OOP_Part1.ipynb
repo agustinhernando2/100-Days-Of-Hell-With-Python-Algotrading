{
 "cells": [
  {
   "cell_type": "code",
   "execution_count": 29,
   "metadata": {
    "colab": {
     "base_uri": "https://localhost:8080/"
    },
    "id": "mmHow1wwn9TG",
    "outputId": "ab6a35e4-e395-4fe2-f9fb-b236eefc3526"
   },
   "outputs": [],
   "source": [
    "class Human:\n",
    "    hands = 2\n",
    "    legs = 2\n",
    "    head = 1\n",
    "    def __init__(self, name, age):\n",
    "        self.name = name\n",
    "        self.age = age\n",
    "    def vision(self):\n",
    "        print(\"I can see \" + str(self.hands) + \" hands\")\n",
    "    def walk(self):\n",
    "        pass\n",
    "    def think(self):\n",
    "        pass"
   ]
  },
  {
   "cell_type": "code",
   "execution_count": 30,
   "metadata": {
    "id": "uYaUUd8uqh8G"
   },
   "outputs": [],
   "source": [
    "kuldeep = Human(\"agus\",22)"
   ]
  },
  {
   "cell_type": "code",
   "execution_count": 31,
   "metadata": {},
   "outputs": [
    {
     "name": "stdout",
     "output_type": "stream",
     "text": [
      "I can see 2 hands\n"
     ]
    }
   ],
   "source": [
    "kuldeep.vision()\n"
   ]
  },
  {
   "cell_type": "code",
   "execution_count": 34,
   "metadata": {},
   "outputs": [
    {
     "name": "stdout",
     "output_type": "stream",
     "text": [
      "[1, 3, 4, 5]\n"
     ]
    },
    {
     "data": {
      "text/plain": [
       "'KULDEEP'"
      ]
     },
     "execution_count": 34,
     "metadata": {},
     "output_type": "execute_result"
    }
   ],
   "source": [
    "L = [1,3,4]\n",
    "L.append(5)\n",
    "print(L)\n",
    "\n",
    "S = \"kuldeep\"\n",
    "len(S)\n",
    "S.upper()"
   ]
  },
  {
   "cell_type": "code",
   "execution_count": null,
   "metadata": {
    "id": "UrQCJI-xqkyX"
   },
   "outputs": [],
   "source": [
    "# syntax to create an object\n",
    "\n",
    "#objectname = classname()"
   ]
  },
  {
   "cell_type": "code",
   "execution_count": 13,
   "metadata": {
    "id": "ffVNGUBhtMrL"
   },
   "outputs": [],
   "source": [
    "# Pascal Case\n",
    "class TradingStrategy:\n",
    "    def __init__(self,symbol,amount):\n",
    "        self.symbol = symbol\n",
    "        self.amount = amount\n",
    "        self.position = 0\n",
    "        print(id(self))\n",
    "\n",
    "    def Buy(self,price,quantity):\n",
    "        if self.amount >= price*quantity:\n",
    "            self.position += quantity\n",
    "            self.amount -= price*quantity\n",
    "            print(f\"Successfully bought {quantity} shares of {self.symbol} at ${price}\")\n",
    "        else:\n",
    "            print(\"Not enough amount to proceed with the trade\")\n",
    "\n",
    "    def Sell(self,price,quantity):\n",
    "        if self.position >= quantity:\n",
    "            self.position -= quantity\n",
    "            self.amount += price*quantity\n",
    "            print(f\"Successfully sold {quantity} shares of {self.symbol} at ${price}\")\n",
    "        else:\n",
    "            print(\"Currently no shares to sell\")\n",
    "\n",
    "    def Status(self):\n",
    "        print(f\"Current position {self.position} of {self.symbol} shares\")\n",
    "        print(f\"Remainig Amount  ${self.amount} \")\n"
   ]
  },
  {
   "cell_type": "code",
   "execution_count": 35,
   "metadata": {},
   "outputs": [
    {
     "name": "stdout",
     "output_type": "stream",
     "text": [
      "138819989245712\n"
     ]
    }
   ],
   "source": [
    "Momentum  = TradingStrategy(\"ETH\",2000)"
   ]
  },
  {
   "cell_type": "code",
   "execution_count": 15,
   "metadata": {},
   "outputs": [
    {
     "name": "stdout",
     "output_type": "stream",
     "text": [
      "138819989534608\n"
     ]
    }
   ],
   "source": [
    "print(id(Momentum))"
   ]
  },
  {
   "cell_type": "code",
   "execution_count": 16,
   "metadata": {},
   "outputs": [
    {
     "name": "stdout",
     "output_type": "stream",
     "text": [
      "Not enough amount to proceed with the trade\n"
     ]
    }
   ],
   "source": [
    "Momentum.position\n",
    "Momentum.Buy(1200,3)\n"
   ]
  },
  {
   "cell_type": "code",
   "execution_count": 17,
   "metadata": {},
   "outputs": [
    {
     "name": "stdout",
     "output_type": "stream",
     "text": [
      "Current position 0 of ETH shares\n",
      "Remainig Amount  $2000 \n"
     ]
    }
   ],
   "source": [
    "Momentum.Status()"
   ]
  },
  {
   "cell_type": "code",
   "execution_count": 12,
   "metadata": {},
   "outputs": [
    {
     "name": "stdout",
     "output_type": "stream",
     "text": [
      "Successfully sold 2 shares of ETH at $1300\n"
     ]
    }
   ],
   "source": [
    "Momentum.Sell(1300,2)"
   ]
  },
  {
   "cell_type": "markdown",
   "metadata": {},
   "source": []
  },
  {
   "cell_type": "markdown",
   "metadata": {},
   "source": []
  },
  {
   "cell_type": "markdown",
   "metadata": {},
   "source": []
  },
  {
   "cell_type": "markdown",
   "metadata": {},
   "source": []
  },
  {
   "cell_type": "code",
   "execution_count": 13,
   "metadata": {
    "id": "qMYm7tYJv_s2"
   },
   "outputs": [
    {
     "ename": "TypeError",
     "evalue": "list.append() takes exactly one argument (0 given)",
     "output_type": "error",
     "traceback": [
      "\u001b[0;31m---------------------------------------------------------------------------\u001b[0m",
      "\u001b[0;31mTypeError\u001b[0m                                 Traceback (most recent call last)",
      "Cell \u001b[0;32mIn[13], line 3\u001b[0m\n\u001b[1;32m      1\u001b[0m L \u001b[38;5;241m=\u001b[39m [\u001b[38;5;241m1\u001b[39m,\u001b[38;5;241m2\u001b[39m,\u001b[38;5;241m3\u001b[39m]\n\u001b[1;32m      2\u001b[0m \u001b[38;5;28mlen\u001b[39m(L) \u001b[38;5;66;03m# function ->bcos it is outside the list class\u001b[39;00m\n\u001b[0;32m----> 3\u001b[0m L\u001b[38;5;241m.\u001b[39mappend()\n",
      "\u001b[0;31mTypeError\u001b[0m: list.append() takes exactly one argument (0 given)"
     ]
    }
   ],
   "source": [
    "L = [1,2,3]\n",
    "len(L) # function ->bcos it is outside the list class\n",
    "L.append()# method -> bcos it is inside the list class"
   ]
  },
  {
   "cell_type": "code",
   "execution_count": 36,
   "metadata": {
    "colab": {
     "base_uri": "https://localhost:8080/"
    },
    "id": "FT63LIRB4YQM",
    "outputId": "64520926-5f6c-4491-e71d-83b1f63b4cd3"
   },
   "outputs": [
    {
     "name": "stdout",
     "output_type": "stream",
     "text": [
      "hello\n"
     ]
    }
   ],
   "source": [
    "class Temp:\n",
    "\n",
    "  def __init__(self):\n",
    "    print('hello')\n",
    "\n",
    "obj = Temp()"
   ]
  },
  {
   "cell_type": "code",
   "execution_count": 15,
   "metadata": {
    "colab": {
     "base_uri": "https://localhost:8080/"
    },
    "id": "w52ABPIX4dbv",
    "outputId": "c35dae21-2ab4-4a1f-ec98-05d962bdf12c"
   },
   "outputs": [
    {
     "data": {
      "text/plain": [
       "0.375"
      ]
     },
     "execution_count": 15,
     "metadata": {},
     "output_type": "execute_result"
    }
   ],
   "source": []
  },
  {
   "cell_type": "markdown",
   "metadata": {},
   "source": [
    "__init__(self, ...): Inicializa la instancia de la clase cuando se crea el objeto.\n",
    "__repr__(self): Devuelve una representación formal del objeto para depuración.\n",
    "__str__(self): Devuelve una representación legible del objeto para el usuario.\n",
    "__add__(self, other): Define el comportamiento del operador + (suma).\n",
    "__sub__(self, other): Define el comportamiento del operador - (resta).\n",
    "__len__(self): Define el comportamiento de len() para el objeto.\n",
    "__getitem__(self, key): Permite acceder a elementos con corchetes (obj[key]).\n",
    "__setitem__(self, key, value): Define cómo se asignan valores con corchetes (obj[key] = value).\n",
    "__delitem__(self, key): Define cómo se elimina un elemento con corchetes (del obj[key]).\n",
    "__call__(self, ...): Permite que el objeto sea llamado como una función.\n",
    "__eq__(self, other): Define el comportamiento de == (igualdad).\n",
    "__lt__(self, other): Define el comportamiento de < (menor que)."
   ]
  },
  {
   "cell_type": "code",
   "execution_count": 45,
   "metadata": {
    "id": "Q19W8x5Y-KHv"
   },
   "outputs": [],
   "source": [
    "class Trades:\n",
    "    def __init__(self,symbol,qauntity,price):\n",
    "        self.symbol = symbol\n",
    "        self.quantity = qauntity\n",
    "        self.price = price\n",
    "    def __repr__(self):\n",
    "        return f\"symbol = {self.symbol}, quantity = {self.quantity}, price = {self.price}\"\n",
    "    def __str__(self):\n",
    "        return f\"{self.quantity} shares of {self.symbol} at {self.price}\" \n",
    "    \n",
    "    def __add__(self,other):\n",
    "        if self.symbol == other.symbol:\n",
    "            new_quantity = self.quantity + other.quantity\n",
    "            average_price = (self.quantity*self.price + other.quantity*other.price)/new_quantity\n",
    "            return f\"The latest quantity is {new_quantity} with an average of {average_price}\"\n",
    "        else:\n",
    "            return f\"Both the symbol should be same\"\n",
    "        \n",
    "    def __sub__(self,other):\n",
    "        if self.symbol == other.symbol:\n",
    "            new_quantity = self.quantity - other.quantity\n",
    "            return f\"The latest quantity is {new_quantity}\"\n",
    "        else:\n",
    "            return f\"Both the symbol should be same\"\n",
    "    def greet(self):\n",
    "        return \"Hello\"\n",
    "    \n",
    "    "
   ]
  },
  {
   "cell_type": "code",
   "execution_count": 47,
   "metadata": {
    "id": "CpmYQ8mm_N1X"
   },
   "outputs": [],
   "source": [
    "trade1 = Trades(\"BTC\",1.5,71000)\n",
    "trade2 = Trades(\"BTC\",0.5,21000)\n"
   ]
  },
  {
   "cell_type": "code",
   "execution_count": 40,
   "metadata": {
    "colab": {
     "base_uri": "https://localhost:8080/"
    },
    "id": "-DW3uyJq_XAa",
    "outputId": "b8aac211-28f6-463f-aee1-10f5e93590ce"
   },
   "outputs": [
    {
     "data": {
      "text/plain": [
       "'The latest quantity is 1.0'"
      ]
     },
     "execution_count": 40,
     "metadata": {},
     "output_type": "execute_result"
    }
   ],
   "source": [
    "\n",
    "# print(repr(trade1))\n",
    "\n",
    "# print((trade1))\n",
    "# trade1 + trade2\n",
    "trade1 - trade2\n",
    "\n",
    "\n"
   ]
  },
  {
   "cell_type": "code",
   "execution_count": 41,
   "metadata": {
    "colab": {
     "base_uri": "https://localhost:8080/"
    },
    "id": "TkfFpVlj_hdf",
    "outputId": "86461b66-070a-4491-a626-a8a0fe9b6e2e"
   },
   "outputs": [
    {
     "data": {
      "text/plain": [
       "100"
      ]
     },
     "execution_count": 41,
     "metadata": {},
     "output_type": "execute_result"
    }
   ],
   "source": [
    "trade1.newatr = 100\n",
    "trade1.newatr"
   ]
  },
  {
   "cell_type": "code",
   "execution_count": 42,
   "metadata": {
    "colab": {
     "base_uri": "https://localhost:8080/",
     "height": 205
    },
    "id": "85oS9Z7ZAys4",
    "outputId": "c4e8344f-ed23-43ce-ca93-ff973f757680"
   },
   "outputs": [
    {
     "data": {
      "text/plain": [
       "4"
      ]
     },
     "execution_count": 42,
     "metadata": {},
     "output_type": "execute_result"
    }
   ],
   "source": [
    "\n",
    "trade1.newmethod = lambda x: x+1\n",
    "trade1.newmethod(3)\n"
   ]
  },
  {
   "cell_type": "code",
   "execution_count": 48,
   "metadata": {
    "colab": {
     "base_uri": "https://localhost:8080/",
     "height": 169
    },
    "id": "op-qgssMA48a",
    "outputId": "0e2058d7-d5ef-4f55-ea8c-6495ae9bd0c4"
   },
   "outputs": [
    {
     "data": {
      "text/plain": [
       "'Hello'"
      ]
     },
     "execution_count": 48,
     "metadata": {},
     "output_type": "execute_result"
    }
   ],
   "source": [
    "trade1.greet()\n",
    "\n"
   ]
  },
  {
   "cell_type": "code",
   "execution_count": null,
   "metadata": {
    "id": "UR_w2uzvCC2k"
   },
   "outputs": [],
   "source": []
  },
  {
   "cell_type": "code",
   "execution_count": null,
   "metadata": {},
   "outputs": [],
   "source": []
  },
  {
   "cell_type": "code",
   "execution_count": null,
   "metadata": {},
   "outputs": [],
   "source": []
  },
  {
   "cell_type": "code",
   "execution_count": null,
   "metadata": {},
   "outputs": [],
   "source": []
  }
 ],
 "metadata": {
  "colab": {
   "provenance": []
  },
  "kernelspec": {
   "display_name": "Python 3 (ipykernel)",
   "language": "python",
   "name": "python3"
  },
  "language_info": {
   "codemirror_mode": {
    "name": "ipython",
    "version": 3
   },
   "file_extension": ".py",
   "mimetype": "text/x-python",
   "name": "python",
   "nbconvert_exporter": "python",
   "pygments_lexer": "ipython3",
   "version": "3.10.12"
  }
 },
 "nbformat": 4,
 "nbformat_minor": 4
}
